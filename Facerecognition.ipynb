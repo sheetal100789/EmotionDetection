{
 "cells": [
  {
   "cell_type": "code",
   "execution_count": 1,
   "metadata": {},
   "outputs": [],
   "source": [
    "from PIL import Image\n",
    "img = Image.open(\"obama.jpg\")"
   ]
  },
  {
   "cell_type": "code",
   "execution_count": 2,
   "metadata": {},
   "outputs": [
    {
     "data": {
      "text/plain": [
       "array([13, 16, 33], dtype=uint8)"
      ]
     },
     "execution_count": 2,
     "metadata": {},
     "output_type": "execute_result"
    }
   ],
   "source": [
    "from numpy import array\n",
    "arr = array(img)\n",
    "arr.shape\n",
    "arr[0,0]"
   ]
  },
  {
   "cell_type": "code",
   "execution_count": 3,
   "metadata": {},
   "outputs": [],
   "source": [
    "import cv2\n",
    "import glob"
   ]
  },
  {
   "cell_type": "code",
   "execution_count": 4,
   "metadata": {},
   "outputs": [],
   "source": [
    "from os import listdir\n",
    "from os.path import isfile, join\n",
    "import string\n",
    "import numpy as np"
   ]
  },
  {
   "cell_type": "code",
   "execution_count": 5,
   "metadata": {},
   "outputs": [],
   "source": [
    "#creating a list of folder names to make valid pathnames later\n",
    "file_dir = '/Users/sheetalsuchit/Downloads/IMFDB_final/'\n",
    "folders = [f for f in listdir(file_dir)]\n",
    "folders.remove('.DS_Store')"
   ]
  },
  {
   "cell_type": "code",
   "execution_count": 6,
   "metadata": {},
   "outputs": [],
   "source": [
    "#creating a 2D list to store list of all files in different folders\n",
    "\n",
    "files = []\n",
    "for folder_name in folders:\n",
    "    folder_path = join(file_dir, folder_name)\n",
    "    files.append([f for f in listdir(folder_path)])"
   ]
  },
  {
   "cell_type": "code",
   "execution_count": 7,
   "metadata": {},
   "outputs": [
    {
     "data": {
      "text/plain": [
       "['InHariharNagar', 'SummerBethlem', '.DS_Store', 'Twenty-20', 'Dhwani']"
      ]
     },
     "execution_count": 7,
     "metadata": {},
     "output_type": "execute_result"
    }
   ],
   "source": [
    "files[0]"
   ]
  },
  {
   "cell_type": "code",
   "execution_count": 8,
   "metadata": {},
   "outputs": [
    {
     "data": {
      "text/plain": [
       "'SureshGopi'"
      ]
     },
     "execution_count": 8,
     "metadata": {},
     "output_type": "execute_result"
    }
   ],
   "source": [
    "folders[0]"
   ]
  },
  {
   "cell_type": "code",
   "execution_count": 9,
   "metadata": {},
   "outputs": [],
   "source": [
    "import os\n",
    "import csv\n",
    "import codecs\n",
    "import pandas as pd\n",
    "rootdir = '/Users/sheetalsuchit/Downloads/IMFDB_final/'\n",
    "textfiles = []\n",
    "for subdir, dirs, files in os.walk(rootdir):\n",
    "    for file in files:\n",
    "        #print os.path.join(subdir, file)\n",
    "        filepath = subdir + os.sep + file\n",
    "        if filepath.endswith(\".txt\"):\n",
    "            textfiles.append(filepath)"
   ]
  },
  {
   "cell_type": "code",
   "execution_count": 10,
   "metadata": {},
   "outputs": [],
   "source": [
    "movieslist = []\n",
    "for f in textfiles:\n",
    "    with open(f, newline = '') as y:                                                                                          \n",
    "        file_reader = list(csv.reader((x.replace('\\0', '') for x in y) , delimiter = '\\t'))\n",
    "        for mov in file_reader:\n",
    "            movieslist.append(mov)\n",
    "\n",
    "    "
   ]
  },
  {
   "cell_type": "code",
   "execution_count": 11,
   "metadata": {},
   "outputs": [],
   "source": [
    "df = pd.DataFrame.from_records(movieslist)"
   ]
  },
  {
   "cell_type": "code",
   "execution_count": 12,
   "metadata": {},
   "outputs": [],
   "source": [
    "df = df.drop([0])"
   ]
  },
  {
   "cell_type": "code",
   "execution_count": 13,
   "metadata": {},
   "outputs": [
    {
     "data": {
      "text/html": [
       "<div>\n",
       "<style scoped>\n",
       "    .dataframe tbody tr th:only-of-type {\n",
       "        vertical-align: middle;\n",
       "    }\n",
       "\n",
       "    .dataframe tbody tr th {\n",
       "        vertical-align: top;\n",
       "    }\n",
       "\n",
       "    .dataframe thead th {\n",
       "        text-align: right;\n",
       "    }\n",
       "</style>\n",
       "<table border=\"1\" class=\"dataframe\">\n",
       "  <thead>\n",
       "    <tr style=\"text-align: right;\">\n",
       "      <th></th>\n",
       "      <th>0</th>\n",
       "      <th>1</th>\n",
       "      <th>2</th>\n",
       "      <th>3</th>\n",
       "      <th>4</th>\n",
       "      <th>5</th>\n",
       "      <th>6</th>\n",
       "      <th>7</th>\n",
       "      <th>8</th>\n",
       "      <th>9</th>\n",
       "      <th>10</th>\n",
       "      <th>11</th>\n",
       "      <th>12</th>\n",
       "      <th>13</th>\n",
       "      <th>14</th>\n",
       "      <th>15</th>\n",
       "      <th>16</th>\n",
       "      <th>17</th>\n",
       "    </tr>\n",
       "  </thead>\n",
       "  <tbody>\n",
       "    <tr>\n",
       "      <th>1</th>\n",
       "      <td>In_Harihar_Nagar-Full_Movie-Malayalam-YouTube_...</td>\n",
       "      <td>13671.jpg</td>\n",
       "      <td>Sureshgopi_1.jpg</td>\n",
       "      <td>242</td>\n",
       "      <td>142</td>\n",
       "      <td>70</td>\n",
       "      <td>82</td>\n",
       "      <td>In_Harihar_Nagar</td>\n",
       "      <td>1990</td>\n",
       "      <td>Suresh_Gopi</td>\n",
       "      <td>MALE</td>\n",
       "      <td>NEUTRAL</td>\n",
       "      <td>NONE</td>\n",
       "      <td>BAD</td>\n",
       "      <td>MIDDLE</td>\n",
       "      <td>LEFT</td>\n",
       "      <td>PARTIAL</td>\n",
       "      <td>None</td>\n",
       "    </tr>\n",
       "    <tr>\n",
       "      <th>2</th>\n",
       "      <td>In_Harihar_Nagar-Full_Movie-Malayalam-YouTube_...</td>\n",
       "      <td>13765.jpg</td>\n",
       "      <td>Sureshgopi_10.jpg</td>\n",
       "      <td>78</td>\n",
       "      <td>47</td>\n",
       "      <td>78</td>\n",
       "      <td>99</td>\n",
       "      <td>In_Harihar_Nagar</td>\n",
       "      <td>1990</td>\n",
       "      <td>Suresh_Gopi</td>\n",
       "      <td>MALE</td>\n",
       "      <td>SURPRISE</td>\n",
       "      <td>NONE</td>\n",
       "      <td>MEDIUM</td>\n",
       "      <td>MIDDLE</td>\n",
       "      <td>LEFT</td>\n",
       "      <td>PARTIAL</td>\n",
       "      <td>None</td>\n",
       "    </tr>\n",
       "    <tr>\n",
       "      <th>3</th>\n",
       "      <td>In_Harihar_Nagar-Full_Movie-Malayalam-YouTube_...</td>\n",
       "      <td>13790.jpg</td>\n",
       "      <td>Sureshgopi_11.jpg</td>\n",
       "      <td>180</td>\n",
       "      <td>82</td>\n",
       "      <td>155</td>\n",
       "      <td>186</td>\n",
       "      <td>In_Harihar_Nagar</td>\n",
       "      <td>1990</td>\n",
       "      <td>Suresh_Gopi</td>\n",
       "      <td>MALE</td>\n",
       "      <td>SURPRISE</td>\n",
       "      <td>NONE</td>\n",
       "      <td>MEDIUM</td>\n",
       "      <td>MIDDLE</td>\n",
       "      <td>FRONTAL</td>\n",
       "      <td>PARTIAL</td>\n",
       "      <td>None</td>\n",
       "    </tr>\n",
       "    <tr>\n",
       "      <th>4</th>\n",
       "      <td>In_Harihar_Nagar-Full_Movie-Malayalam-YouTube_...</td>\n",
       "      <td>13825.jpg</td>\n",
       "      <td>Sureshgopi_12.jpg</td>\n",
       "      <td>112</td>\n",
       "      <td>49</td>\n",
       "      <td>58</td>\n",
       "      <td>105</td>\n",
       "      <td>In_Harihar_Nagar</td>\n",
       "      <td>1990</td>\n",
       "      <td>Suresh_Gopi</td>\n",
       "      <td>MALE</td>\n",
       "      <td>NEUTRAL</td>\n",
       "      <td>NONE</td>\n",
       "      <td>MEDIUM</td>\n",
       "      <td>MIDDLE</td>\n",
       "      <td>LEFT</td>\n",
       "      <td>PARTIAL</td>\n",
       "      <td>None</td>\n",
       "    </tr>\n",
       "    <tr>\n",
       "      <th>5</th>\n",
       "      <td>In_Harihar_Nagar-Full_Movie-Malayalam-YouTube_...</td>\n",
       "      <td>13838.jpg</td>\n",
       "      <td>Sureshgopi_13.jpg</td>\n",
       "      <td>247</td>\n",
       "      <td>92</td>\n",
       "      <td>49</td>\n",
       "      <td>61</td>\n",
       "      <td>In_Harihar_Nagar</td>\n",
       "      <td>1990</td>\n",
       "      <td>Suresh_Gopi</td>\n",
       "      <td>MALE</td>\n",
       "      <td>NEUTRAL</td>\n",
       "      <td>NONE</td>\n",
       "      <td>HIGH</td>\n",
       "      <td>MIDDLE</td>\n",
       "      <td>DOWN</td>\n",
       "      <td>PARTIAL</td>\n",
       "      <td>None</td>\n",
       "    </tr>\n",
       "  </tbody>\n",
       "</table>\n",
       "</div>"
      ],
      "text/plain": [
       "                                                  0          1   \\\n",
       "1  In_Harihar_Nagar-Full_Movie-Malayalam-YouTube_...  13671.jpg   \n",
       "2  In_Harihar_Nagar-Full_Movie-Malayalam-YouTube_...  13765.jpg   \n",
       "3  In_Harihar_Nagar-Full_Movie-Malayalam-YouTube_...  13790.jpg   \n",
       "4  In_Harihar_Nagar-Full_Movie-Malayalam-YouTube_...  13825.jpg   \n",
       "5  In_Harihar_Nagar-Full_Movie-Malayalam-YouTube_...  13838.jpg   \n",
       "\n",
       "                  2    3    4    5    6                 7     8            9   \\\n",
       "1   Sureshgopi_1.jpg  242  142   70   82  In_Harihar_Nagar  1990  Suresh_Gopi   \n",
       "2  Sureshgopi_10.jpg   78   47   78   99  In_Harihar_Nagar  1990  Suresh_Gopi   \n",
       "3  Sureshgopi_11.jpg  180   82  155  186  In_Harihar_Nagar  1990  Suresh_Gopi   \n",
       "4  Sureshgopi_12.jpg  112   49   58  105  In_Harihar_Nagar  1990  Suresh_Gopi   \n",
       "5  Sureshgopi_13.jpg  247   92   49   61  In_Harihar_Nagar  1990  Suresh_Gopi   \n",
       "\n",
       "     10        11    12      13      14       15       16    17  \n",
       "1  MALE   NEUTRAL  NONE     BAD  MIDDLE     LEFT  PARTIAL  None  \n",
       "2  MALE  SURPRISE  NONE  MEDIUM  MIDDLE     LEFT  PARTIAL  None  \n",
       "3  MALE  SURPRISE  NONE  MEDIUM  MIDDLE  FRONTAL  PARTIAL  None  \n",
       "4  MALE   NEUTRAL  NONE  MEDIUM  MIDDLE     LEFT  PARTIAL  None  \n",
       "5  MALE   NEUTRAL  NONE    HIGH  MIDDLE     DOWN  PARTIAL  None  "
      ]
     },
     "execution_count": 13,
     "metadata": {},
     "output_type": "execute_result"
    }
   ],
   "source": [
    "df.head()"
   ]
  },
  {
   "cell_type": "code",
   "execution_count": 14,
   "metadata": {},
   "outputs": [
    {
     "data": {
      "text/html": [
       "<div>\n",
       "<style scoped>\n",
       "    .dataframe tbody tr th:only-of-type {\n",
       "        vertical-align: middle;\n",
       "    }\n",
       "\n",
       "    .dataframe tbody tr th {\n",
       "        vertical-align: top;\n",
       "    }\n",
       "\n",
       "    .dataframe thead th {\n",
       "        text-align: right;\n",
       "    }\n",
       "</style>\n",
       "<table border=\"1\" class=\"dataframe\">\n",
       "  <thead>\n",
       "    <tr style=\"text-align: right;\">\n",
       "      <th></th>\n",
       "      <th>Movie</th>\n",
       "      <th>Original jpg</th>\n",
       "      <th>ImageName</th>\n",
       "      <th>A</th>\n",
       "      <th>B</th>\n",
       "      <th>C</th>\n",
       "      <th>D</th>\n",
       "      <th>E</th>\n",
       "      <th>Year</th>\n",
       "      <th>Actor</th>\n",
       "      <th>Gender</th>\n",
       "      <th>Expression</th>\n",
       "      <th>F</th>\n",
       "      <th>Illumination</th>\n",
       "      <th>Age</th>\n",
       "      <th>Pose</th>\n",
       "      <th>Makeup</th>\n",
       "      <th>G</th>\n",
       "    </tr>\n",
       "  </thead>\n",
       "  <tbody>\n",
       "    <tr>\n",
       "      <th>33562</th>\n",
       "      <td>Nuvvu_Vasthavani</td>\n",
       "      <td>22637.jpg</td>\n",
       "      <td>Ali_42.jpg</td>\n",
       "      <td>590</td>\n",
       "      <td>186</td>\n",
       "      <td>93</td>\n",
       "      <td>125</td>\n",
       "      <td>Nuvvu_Vasthavani</td>\n",
       "      <td>05-04-2000</td>\n",
       "      <td>Ali</td>\n",
       "      <td>MALE</td>\n",
       "      <td>HAPPINESS</td>\n",
       "      <td>NONE</td>\n",
       "      <td>MEDIUM</td>\n",
       "      <td>MIDDLE</td>\n",
       "      <td>FRONTAL</td>\n",
       "      <td>PARTIAL</td>\n",
       "      <td>None</td>\n",
       "    </tr>\n",
       "    <tr>\n",
       "      <th>33563</th>\n",
       "      <td>Nuvvu_Vasthavani</td>\n",
       "      <td>03452.jpg</td>\n",
       "      <td>Ali_5.jpg</td>\n",
       "      <td>881</td>\n",
       "      <td>257</td>\n",
       "      <td>173</td>\n",
       "      <td>192</td>\n",
       "      <td>Nuvvu_Vasthavani</td>\n",
       "      <td>05-04-2000</td>\n",
       "      <td>Ali</td>\n",
       "      <td>MALE</td>\n",
       "      <td>HAPPINESS</td>\n",
       "      <td>NONE</td>\n",
       "      <td>MEDIUM</td>\n",
       "      <td>MIDDLE</td>\n",
       "      <td>FRONTAL</td>\n",
       "      <td>PARTIAL</td>\n",
       "      <td>None</td>\n",
       "    </tr>\n",
       "    <tr>\n",
       "      <th>33564</th>\n",
       "      <td>Nuvvu_Vasthavani</td>\n",
       "      <td>03454.jpg</td>\n",
       "      <td>Ali_6.jpg</td>\n",
       "      <td>884</td>\n",
       "      <td>257</td>\n",
       "      <td>165</td>\n",
       "      <td>187</td>\n",
       "      <td>Nuvvu_Vasthavani</td>\n",
       "      <td>05-04-2000</td>\n",
       "      <td>Ali</td>\n",
       "      <td>MALE</td>\n",
       "      <td>HAPPINESS</td>\n",
       "      <td>NONE</td>\n",
       "      <td>MEDIUM</td>\n",
       "      <td>MIDDLE</td>\n",
       "      <td>FRONTAL</td>\n",
       "      <td>PARTIAL</td>\n",
       "      <td>None</td>\n",
       "    </tr>\n",
       "    <tr>\n",
       "      <th>33565</th>\n",
       "      <td>Nuvvu_Vasthavani</td>\n",
       "      <td>06612.jpg</td>\n",
       "      <td>Ali_8.jpg</td>\n",
       "      <td>224</td>\n",
       "      <td>182</td>\n",
       "      <td>93</td>\n",
       "      <td>112</td>\n",
       "      <td>Nuvvu_Vasthavani</td>\n",
       "      <td>05-04-2000</td>\n",
       "      <td>Ali</td>\n",
       "      <td>MALE</td>\n",
       "      <td>SADNESS</td>\n",
       "      <td>NONE</td>\n",
       "      <td>MEDIUM</td>\n",
       "      <td>MIDDLE</td>\n",
       "      <td>LEFT</td>\n",
       "      <td>PARTIAL</td>\n",
       "      <td>None</td>\n",
       "    </tr>\n",
       "    <tr>\n",
       "      <th>33566</th>\n",
       "      <td>Nuvvu_Vasthavani</td>\n",
       "      <td>08269.jpg</td>\n",
       "      <td>Ali_9.jpg</td>\n",
       "      <td>691</td>\n",
       "      <td>293</td>\n",
       "      <td>225</td>\n",
       "      <td>210</td>\n",
       "      <td>Nuvvu_Vasthavani</td>\n",
       "      <td>05-04-2000</td>\n",
       "      <td>Ali</td>\n",
       "      <td>MALE</td>\n",
       "      <td>HAPPINESS</td>\n",
       "      <td>NONE</td>\n",
       "      <td>BAD</td>\n",
       "      <td>MIDDLE</td>\n",
       "      <td>FRONTAL</td>\n",
       "      <td>PARTIAL</td>\n",
       "      <td>None</td>\n",
       "    </tr>\n",
       "  </tbody>\n",
       "</table>\n",
       "</div>"
      ],
      "text/plain": [
       "                  Movie Original jpg   ImageName    A    B    C    D  \\\n",
       "33562  Nuvvu_Vasthavani    22637.jpg  Ali_42.jpg  590  186   93  125   \n",
       "33563  Nuvvu_Vasthavani    03452.jpg   Ali_5.jpg  881  257  173  192   \n",
       "33564  Nuvvu_Vasthavani    03454.jpg   Ali_6.jpg  884  257  165  187   \n",
       "33565  Nuvvu_Vasthavani    06612.jpg   Ali_8.jpg  224  182   93  112   \n",
       "33566  Nuvvu_Vasthavani    08269.jpg   Ali_9.jpg  691  293  225  210   \n",
       "\n",
       "                      E        Year Actor Gender Expression     F  \\\n",
       "33562  Nuvvu_Vasthavani  05-04-2000   Ali   MALE  HAPPINESS  NONE   \n",
       "33563  Nuvvu_Vasthavani  05-04-2000   Ali   MALE  HAPPINESS  NONE   \n",
       "33564  Nuvvu_Vasthavani  05-04-2000   Ali   MALE  HAPPINESS  NONE   \n",
       "33565  Nuvvu_Vasthavani  05-04-2000   Ali   MALE    SADNESS  NONE   \n",
       "33566  Nuvvu_Vasthavani  05-04-2000   Ali   MALE  HAPPINESS  NONE   \n",
       "\n",
       "      Illumination     Age     Pose   Makeup     G  \n",
       "33562       MEDIUM  MIDDLE  FRONTAL  PARTIAL  None  \n",
       "33563       MEDIUM  MIDDLE  FRONTAL  PARTIAL  None  \n",
       "33564       MEDIUM  MIDDLE  FRONTAL  PARTIAL  None  \n",
       "33565       MEDIUM  MIDDLE     LEFT  PARTIAL  None  \n",
       "33566          BAD  MIDDLE  FRONTAL  PARTIAL  None  "
      ]
     },
     "execution_count": 14,
     "metadata": {},
     "output_type": "execute_result"
    }
   ],
   "source": [
    "df.columns = ['Movie','Original jpg','ImageName','A','B','C','D','E','Year','Actor','Gender','Expression','F','Illumination','Age','Pose','Makeup','G']\n",
    "df.tail()"
   ]
  },
  {
   "cell_type": "code",
   "execution_count": 15,
   "metadata": {},
   "outputs": [
    {
     "data": {
      "text/plain": [
       "array(['MIDDLE', None, 'CHILD', 'YOUNG', 'OLD'], dtype=object)"
      ]
     },
     "execution_count": 15,
     "metadata": {},
     "output_type": "execute_result"
    }
   ],
   "source": [
    "df['Age'].unique()"
   ]
  },
  {
   "cell_type": "code",
   "execution_count": 16,
   "metadata": {},
   "outputs": [
    {
     "data": {
      "text/plain": [
       "Series([], Name: ImageName, dtype: object)"
      ]
     },
     "execution_count": 16,
     "metadata": {},
     "output_type": "execute_result"
    }
   ],
   "source": [
    "df.loc[df['Age'] == 'YOUNG ']['ImageName']"
   ]
  },
  {
   "cell_type": "code",
   "execution_count": 17,
   "metadata": {},
   "outputs": [],
   "source": [
    "Neutral = df.loc[df['Expression'] == 'NEUTRAL']['ImageName']\n",
    "Surprise = df.loc[df['Expression'] == 'SURPRISE']['ImageName']\n",
    "Sadness = df.loc[df['Expression'] == 'SADNESS']['ImageName']\n",
    "Anger = df.loc[df['Expression'] == 'ANGER']['ImageName']\n",
    "Happiness = df.loc[df['Expression'] == 'HAPPINESS']['ImageName']\n",
    "Disgust = df.loc[df['Expression'] == 'DISGUST']['ImageName']\n",
    "Fear = df.loc[df['Expression'] == 'FEAR']['ImageName']\n",
    "#Nn = df.loc[df['Expression'] not in ['NEUTRAL','SURPRISE','SADNESS', 'ANGER', 'HAPPINESS','DISGUST', 'FEAR'] ]['ImageName']"
   ]
  },
  {
   "cell_type": "code",
   "execution_count": 18,
   "metadata": {},
   "outputs": [],
   "source": [
    "Middle = df.loc[df['Age'] == 'MIDDLE']['ImageName']\n",
    "Child = df.loc[df['Age'] == 'CHILD']['ImageName']\n",
    "Young = df.loc[df['Age'] == 'YOUNG']['ImageName']\n",
    "Old = df.loc[df['Age'] == 'OLD']['ImageName']\n",
    "#Nn = df.loc[df['Expression'] not in ['NEUTRAL','SURPRISE','SADNESS', 'ANGER', 'HAPPINESS','DISGUST', 'FEAR'] ]['ImageName']"
   ]
  },
  {
   "cell_type": "code",
   "execution_count": 19,
   "metadata": {},
   "outputs": [],
   "source": [
    "for file in glob.glob(\"/Users/sheetalsuchit/Downloads/IMFDB_final/AamairKhan/Dil/images/*.jpg\"):\n",
    "    if os.path.basename(file) in Neutral:\n",
    "        print(os.path.basename(file))"
   ]
  },
  {
   "cell_type": "code",
   "execution_count": 20,
   "metadata": {},
   "outputs": [],
   "source": [
    "#this code is to move images of particular emotions to different folder\n",
    "\n",
    "for file in glob.iglob(\"/Users/sheetalsuchit/Downloads/IMFDB_final/**/*.jpg\", recursive=True):\n",
    "    for i in Neutral:\n",
    "        if i == os.path.basename(file):\n",
    "            img = cv2.imread(file)\n",
    "            img = cv2.cvtColor(img, cv2.COLOR_BGR2GRAY)\n",
    "            \n",
    "            cv2.imwrite(os.path.join('/Users/sheetalsuchit/Downloads/Pract 3/Neutral', i),img )"
   ]
  },
  {
   "cell_type": "code",
   "execution_count": 21,
   "metadata": {},
   "outputs": [],
   "source": [
    "#this code is to move images of particular emotions to different folder\n",
    "\n",
    "for file in glob.iglob(\"/Users/sheetalsuchit/Downloads/IMFDB_final/**/*.jpg\", recursive=True):\n",
    "    for i in Surprise:\n",
    "        if i == os.path.basename(file):\n",
    "            img = cv2.imread(file)\n",
    "            img = cv2.cvtColor(img, cv2.COLOR_BGR2GRAY)\n",
    "            \n",
    "            cv2.imwrite(os.path.join('/Users/sheetalsuchit/Downloads/Pract 3/SURPRISE', i),img )"
   ]
  },
  {
   "cell_type": "code",
   "execution_count": 22,
   "metadata": {},
   "outputs": [],
   "source": [
    "#this code is to move images of particular emotions to different folder\n",
    "\n",
    "for file in glob.iglob(\"/Users/sheetalsuchit/Downloads/IMFDB_final/**/*.jpg\", recursive=True):\n",
    "    for i in Sadness:\n",
    "        if i == os.path.basename(file):\n",
    "            img = cv2.imread(file)\n",
    "            img = cv2.cvtColor(img, cv2.COLOR_BGR2GRAY)\n",
    "            \n",
    "            cv2.imwrite(os.path.join('/Users/sheetalsuchit/Downloads/Pract 3/SADNESS', i),img )"
   ]
  },
  {
   "cell_type": "code",
   "execution_count": 23,
   "metadata": {},
   "outputs": [],
   "source": [
    "#this code is to move images of particular emotions to different folder\n",
    "\n",
    "for file in glob.iglob(\"/Users/sheetalsuchit/Downloads/IMFDB_final/**/*.jpg\", recursive=True):\n",
    "    for i in Anger:\n",
    "        if i == os.path.basename(file):\n",
    "            img = cv2.imread(file)\n",
    "            img = cv2.cvtColor(img, cv2.COLOR_BGR2GRAY)\n",
    "            \n",
    "            cv2.imwrite(os.path.join('/Users/sheetalsuchit/Downloads/Pract 3/ANGER', i),img )"
   ]
  },
  {
   "cell_type": "code",
   "execution_count": 24,
   "metadata": {},
   "outputs": [],
   "source": [
    "#this code is to move images of particular emotions to different folder\n",
    "\n",
    "for file in glob.iglob(\"/Users/sheetalsuchit/Downloads/IMFDB_final/**/*.jpg\", recursive=True):\n",
    "    for i in Happiness:\n",
    "        if i == os.path.basename(file):\n",
    "            img = cv2.imread(file)\n",
    "            img = cv2.cvtColor(img, cv2.COLOR_BGR2GRAY)\n",
    "            \n",
    "            cv2.imwrite(os.path.join('/Users/sheetalsuchit/Downloads/Pract 3/HAPPINESS', i),img )"
   ]
  },
  {
   "cell_type": "code",
   "execution_count": 25,
   "metadata": {},
   "outputs": [],
   "source": [
    "#this code is to move images of particular emotions to different folder\n",
    "\n",
    "for file in glob.iglob(\"/Users/sheetalsuchit/Downloads/IMFDB_final/**/*.jpg\", recursive=True):\n",
    "    for i in Disgust:\n",
    "        if i == os.path.basename(file):\n",
    "            img = cv2.imread(file)\n",
    "            img = cv2.cvtColor(img, cv2.COLOR_BGR2GRAY)\n",
    "            \n",
    "            cv2.imwrite(os.path.join('/Users/sheetalsuchit/Downloads/Pract 3/DISGUST', i),img )"
   ]
  },
  {
   "cell_type": "code",
   "execution_count": 26,
   "metadata": {},
   "outputs": [],
   "source": [
    "#this code is to move images of particular emotions to different folder\n",
    "\n",
    "for file in glob.iglob(\"/Users/sheetalsuchit/Downloads/IMFDB_final/**/*.jpg\", recursive=True):\n",
    "    for i in Fear:\n",
    "        if i == os.path.basename(file):\n",
    "            img = cv2.imread(file)\n",
    "            img = cv2.cvtColor(img, cv2.COLOR_BGR2GRAY)\n",
    "            \n",
    "            cv2.imwrite(os.path.join('/Users/sheetalsuchit/Downloads/Pract 3/FEAR', i),img )"
   ]
  },
  {
   "cell_type": "code",
   "execution_count": 27,
   "metadata": {},
   "outputs": [],
   "source": [
    "#this code is to move images of particular emotions to different folder\n",
    "\n",
    "for file in glob.iglob(\"/Users/sheetalsuchit/Downloads/IMFDB_final/**/*.jpg\", recursive=True):\n",
    "    for i in Middle:\n",
    "        if i == os.path.basename(file):\n",
    "            img = cv2.imread(file)\n",
    "            img = cv2.cvtColor(img, cv2.COLOR_BGR2GRAY)\n",
    "            \n",
    "            cv2.imwrite(os.path.join('/Users/sheetalsuchit/Downloads/Pract 3/MIDDLE', i),img )"
   ]
  },
  {
   "cell_type": "code",
   "execution_count": 28,
   "metadata": {},
   "outputs": [],
   "source": [
    "#this code is to move images of particular emotions to different folder\n",
    "\n",
    "for file in glob.iglob(\"/Users/sheetalsuchit/Downloads/IMFDB_final/**/*.jpg\", recursive=True):\n",
    "    for i in Child:\n",
    "        if i == os.path.basename(file):\n",
    "            img = cv2.imread(file)\n",
    "            img = cv2.cvtColor(img, cv2.COLOR_BGR2GRAY)\n",
    "            \n",
    "            cv2.imwrite(os.path.join('/Users/sheetalsuchit/Downloads/Pract 3/CHILD', i),img )"
   ]
  },
  {
   "cell_type": "code",
   "execution_count": 29,
   "metadata": {},
   "outputs": [],
   "source": [
    "#this code is to move images of particular emotions to different folder\n",
    "\n",
    "for file in glob.iglob(\"/Users/sheetalsuchit/Downloads/IMFDB_final/**/*.jpg\", recursive=True):\n",
    "    for i in Old:\n",
    "        if i == os.path.basename(file):\n",
    "            img = cv2.imread(file)\n",
    "            img = cv2.cvtColor(img, cv2.COLOR_BGR2GRAY)\n",
    "            \n",
    "            cv2.imwrite(os.path.join('/Users/sheetalsuchit/Downloads/Pract 3/OLD', i),img )"
   ]
  },
  {
   "cell_type": "code",
   "execution_count": 30,
   "metadata": {},
   "outputs": [],
   "source": [
    "#this code is to move images of particular emotions to different folder\n",
    "\n",
    "for file in glob.iglob(\"/Users/sheetalsuchit/Downloads/IMFDB_final/**/*.jpg\", recursive=True):\n",
    "    for i in Young:\n",
    "        if i == os.path.basename(file):\n",
    "            img = cv2.imread(file)\n",
    "            img = cv2.cvtColor(img, cv2.COLOR_BGR2GRAY)\n",
    "            \n",
    "            cv2.imwrite(os.path.join('/Users/sheetalsuchit/Downloads/Pract 3/YOUNG', i),img )"
   ]
  },
  {
   "cell_type": "code",
   "execution_count": 16,
   "metadata": {},
   "outputs": [],
   "source": [
    "import cv2\n",
    "import glob as glob\n",
    "import numpy as np\n",
    "emotions = [\"NEUTRAL\", \"ANGER\", \"DISGUST\", \"FEAR\", \"HAPPY\", \"SADNESS\", \"SURPRISE\"] #Emotion list\n",
    "data = {}\n",
    "def get_files(emotion): #Define function to get file list, randomly shuffle it and split 80/20\n",
    "    files = glob.glob(\"/Users/sheetalsuchit/Downloads/Pract 3/%s/*\" %emotion)\n",
    "    random.shuffle(files)\n",
    "    training = files[:int(len(files)*0.05)] #get first 20% of file list\n",
    "    prediction = files[-int(len(files)*0.03):] #get last 3% of file list\n",
    "    return training, prediction"
   ]
  },
  {
   "cell_type": "code",
   "execution_count": 17,
   "metadata": {},
   "outputs": [],
   "source": [
    "def make_sets():\n",
    "    training_data = []\n",
    "    training_labels = []\n",
    "    prediction_data = []\n",
    "    prediction_labels = []\n",
    "    for emotion in emotions:\n",
    "        training, prediction = get_files(emotion)\n",
    "        #Append data to training and prediction list, and generate labels 0-7\n",
    "        for item in training:\n",
    "            img = cv2.cv2.imread(item) #open image\n",
    "            img = cv2.cv2.resize(img, (60,60))\n",
    "            img = cv2.cv2.cvtColor(img, cv2.cv2.COLOR_BGR2GRAY)\n",
    "            training_data.append(img) #append image array to training data list\n",
    "            training_labels.append(emotions.index(emotion))\n",
    "        for item in prediction: #repeat above process for prediction set\n",
    "            img = cv2.cv2.imread(item)\n",
    "            img = cv2.cv2.cvtColor(img, cv2.cv2.COLOR_BGR2GRAY)\n",
    "            img = cv2.cv2.resize(img, (60,60))\n",
    "            prediction_data.append(img)\n",
    "            prediction_labels.append(emotions.index(emotion))\n",
    "    return training_data, training_labels, prediction_data, prediction_labels"
   ]
  },
  {
   "cell_type": "code",
   "execution_count": 18,
   "metadata": {},
   "outputs": [],
   "source": [
    "fishface = cv2.cv2.face.FisherFaceRecognizer_create()"
   ]
  },
  {
   "cell_type": "code",
   "execution_count": 19,
   "metadata": {},
   "outputs": [
    {
     "name": "stdout",
     "output_type": "stream",
     "text": [
      "training fisher face classifier\n",
      "size of training set is: 953 images\n",
      "size of validation set is: 570 images\n",
      "predicting classification set\n"
     ]
    }
   ],
   "source": [
    "import random\n",
    "import numpy as np\n",
    "import cv2\n",
    "#def run_recognizer():\n",
    "training_data, training_labels, prediction_data, prediction_labels = make_sets()\n",
    "print(\"training fisher face classifier\")\n",
    "print(\"size of training set is:\", len(training_labels), \"images\")\n",
    "print(\"size of validation set is:\", len(prediction_labels), \"images\")\n",
    "fishface.train(training_data, np.asarray(training_labels))\n",
    "print(\"predicting classification set\")\n"
   ]
  },
  {
   "cell_type": "code",
   "execution_count": 20,
   "metadata": {},
   "outputs": [
    {
     "name": "stdout",
     "output_type": "stream",
     "text": [
      "Accuracy\n",
      "23.50877192982456\n"
     ]
    }
   ],
   "source": [
    "cnt = 0\n",
    "correct = 0\n",
    "incorrect = 0\n",
    "for image in prediction_data:\n",
    "    pred, conf = fishface.predict(image)\n",
    "    if pred == prediction_labels[cnt]:\n",
    "        correct += 1\n",
    "        cnt += 1\n",
    "    else:\n",
    "        incorrect += 1\n",
    "        cnt += 1\n",
    "print(\"Accuracy\")\n",
    "print((100*correct)/(correct + incorrect))\n",
    "\n"
   ]
  },
  {
   "cell_type": "code",
   "execution_count": 21,
   "metadata": {},
   "outputs": [],
   "source": [
    "training_data, training_labels, prediction_data, prediction_labels = make_sets()"
   ]
  },
  {
   "cell_type": "code",
   "execution_count": 22,
   "metadata": {},
   "outputs": [
    {
     "data": {
      "text/plain": [
       "(0, 32.014029469610385)"
      ]
     },
     "execution_count": 22,
     "metadata": {},
     "output_type": "execute_result"
    }
   ],
   "source": [
    "from PIL import Image \n",
    "Image.fromarray(prediction_data[0])\n",
    "\n",
    "fishface.predict(prediction_data[0])\n",
    "\n"
   ]
  },
  {
   "cell_type": "code",
   "execution_count": null,
   "metadata": {},
   "outputs": [],
   "source": []
  }
 ],
 "metadata": {
  "kernelspec": {
   "display_name": "Python 3",
   "language": "python",
   "name": "python3"
  },
  "language_info": {
   "codemirror_mode": {
    "name": "ipython",
    "version": 3
   },
   "file_extension": ".py",
   "mimetype": "text/x-python",
   "name": "python",
   "nbconvert_exporter": "python",
   "pygments_lexer": "ipython3",
   "version": "3.6.4"
  }
 },
 "nbformat": 4,
 "nbformat_minor": 2
}

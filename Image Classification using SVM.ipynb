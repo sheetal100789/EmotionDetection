{
 "cells": [
  {
   "cell_type": "code",
   "execution_count": 12,
   "metadata": {},
   "outputs": [],
   "source": [
    "import glob as glob\n",
    "import numpy as np\n",
    "import cv2\n",
    "import random\n",
    "emotions = [\"NEUTRAL\", \"ANGER\", \"DISGUST\", \"FEAR\", \"HAPPY\", \"SADNESS\", \"SURPRISE\"] #Emotion list\n",
    "data = {}\n",
    "def get_files(emotion): #Define function to get file list, randomly shuffle it and split 80/20\n",
    "    files = glob.glob(\"/Users/sheetalsuchit/Downloads/Pract 3/%s/*\" %emotion)\n",
    "    random.shuffle(files)\n",
    "    training = files[:int(len(files)*0.09)] #get first 20% of file list\n",
    "    prediction = files[-int(len(files)*0.001):] #get last 3% of file list\n",
    "    return training, prediction"
   ]
  },
  {
   "cell_type": "code",
   "execution_count": 13,
   "metadata": {},
   "outputs": [],
   "source": [
    "def make_sets():\n",
    "    training_data = []\n",
    "    training_labels = []\n",
    "    prediction_data = []\n",
    "    prediction_labels = []\n",
    "    for emotion in emotions:\n",
    "        training, prediction = get_files(emotion)\n",
    "        #Append data to training and prediction list, and generate labels 0-7\n",
    "        for item in training:\n",
    "            img = cv2.cv2.imread(item) #open image\n",
    "            img = cv2.cv2.resize(img, (60,60))\n",
    "            img = cv2.cv2.cvtColor(img, cv2.cv2.COLOR_BGR2GRAY)\n",
    "            training_data.append(img) #append image array to training data list\n",
    "            training_labels.append(emotions.index(emotion))\n",
    "        for item in prediction: #repeat above process for prediction set\n",
    "            img = cv2.cv2.imread(item)\n",
    "            img = cv2.cv2.cvtColor(img, cv2.cv2.COLOR_BGR2GRAY)\n",
    "            img = cv2.cv2.resize(img, (60,60))\n",
    "            prediction_data.append(img)\n",
    "            prediction_labels.append(emotions.index(emotion))\n",
    "    return training_data, training_labels, prediction_data, prediction_labels"
   ]
  },
  {
   "cell_type": "code",
   "execution_count": 14,
   "metadata": {},
   "outputs": [
    {
     "name": "stdout",
     "output_type": "stream",
     "text": [
      "SVC(C=1.0, cache_size=200, class_weight=None, coef0=0.0,\n",
      "  decision_function_shape='ovr', degree=3, gamma='auto_deprecated',\n",
      "  kernel='linear', max_iter=-1, probability=False, random_state=None,\n",
      "  shrinking=True, tol=0.001, verbose=False)\n"
     ]
    }
   ],
   "source": [
    "from sklearn.svm import SVC\n",
    "svc_1 = SVC(kernel='linear')\n",
    "print (svc_1)"
   ]
  },
  {
   "cell_type": "code",
   "execution_count": 15,
   "metadata": {},
   "outputs": [],
   "source": [
    "from sklearn.model_selection import cross_val_score,KFold\n",
    "from scipy.stats import sem\n",
    "\n",
    "def evaluate_cross_validation(clf, X, y, K):\n",
    "    # create a k-fold croos validation iterator\n",
    "    cv = KFold(K, shuffle=True, random_state=0)\n",
    "    # by default the score used is the one returned by score method of the estimator (accuracy)\n",
    "    scores = cross_val_score(clf, X, y, cv=cv)\n",
    "    print (scores)\n",
    "    print ((\"Mean score: {0:.3f} (+/-{1:.3f})\").format(np.mean(scores), sem(scores)))"
   ]
  },
  {
   "cell_type": "code",
   "execution_count": 16,
   "metadata": {},
   "outputs": [],
   "source": [
    "training_data, training_labels, prediction_data, prediction_labels = make_sets()"
   ]
  },
  {
   "cell_type": "code",
   "execution_count": 17,
   "metadata": {},
   "outputs": [],
   "source": [
    "training_data = np.array(training_data)\n",
    "training_data = training_data.reshape((len(training_data),3600))\n",
    "prediction_data = np.array(prediction_data)\n",
    "prediction_data = prediction_data.reshape((len(prediction_data),3600))"
   ]
  },
  {
   "cell_type": "code",
   "execution_count": 19,
   "metadata": {},
   "outputs": [
    {
     "data": {
      "text/plain": [
       "1717"
      ]
     },
     "execution_count": 19,
     "metadata": {},
     "output_type": "execute_result"
    }
   ],
   "source": [
    "len(training_labels)"
   ]
  },
  {
   "cell_type": "code",
   "execution_count": 20,
   "metadata": {},
   "outputs": [
    {
     "name": "stdout",
     "output_type": "stream",
     "text": [
      "[0.2877907  0.27906977 0.31195335 0.27113703 0.24781341]\n",
      "Mean score: 0.280 (+/-0.010)\n"
     ]
    }
   ],
   "source": [
    "evaluate_cross_validation(svc_1, training_data, training_labels, 5)"
   ]
  },
  {
   "cell_type": "code",
   "execution_count": 21,
   "metadata": {},
   "outputs": [],
   "source": [
    "from sklearn import metrics\n",
    "\n",
    "def train_and_evaluate(clf, X_train, X_test, y_train, y_test):\n",
    "    \n",
    "    clf.fit(X_train, y_train)\n",
    "    \n",
    "    print (\"Accuracy on training set:\")\n",
    "    print (clf.score(X_train, y_train))\n",
    "    print (\"Accuracy on testing set:\")\n",
    "    print (clf.score(X_test, y_test))\n",
    "    \n",
    "    y_pred = clf.predict(X_test)\n",
    "    \n",
    "    print (\"Classification Report:\")\n",
    "    print (metrics.classification_report(y_test, y_pred))\n",
    "    print (\"Confusion Matrix:\")\n",
    "    print (metrics.confusion_matrix(y_test, y_pred))\n",
    "    return y_pred"
   ]
  },
  {
   "cell_type": "code",
   "execution_count": 22,
   "metadata": {},
   "outputs": [
    {
     "name": "stdout",
     "output_type": "stream",
     "text": [
      "Accuracy on training set:\n",
      "0.988351776354106\n",
      "Accuracy on testing set:\n",
      "0.13513513513513514\n",
      "Classification Report:\n",
      "              precision    recall  f1-score   support\n",
      "\n",
      "           0       0.01      0.29      0.02         7\n",
      "           1       0.00      0.00      0.00         2\n",
      "           2       0.01      0.33      0.02         3\n",
      "           3       0.97      0.13      0.23       576\n",
      "           5       0.01      0.33      0.02         3\n",
      "           6       0.00      0.00      0.00         1\n",
      "\n",
      "   micro avg       0.14      0.14      0.14       592\n",
      "   macro avg       0.17      0.18      0.05       592\n",
      "weighted avg       0.95      0.14      0.23       592\n",
      "\n",
      "Confusion Matrix:\n",
      "[[  2   3   0   1   0   1]\n",
      " [  0   0   1   0   1   0]\n",
      " [  0   2   1   0   0   0]\n",
      " [227  72  83  76  86  32]\n",
      " [  0   1   0   1   1   0]\n",
      " [  1   0   0   0   0   0]]\n"
     ]
    }
   ],
   "source": [
    "y_pred = train_and_evaluate(svc_1, training_data, prediction_data, training_labels, prediction_labels)"
   ]
  },
  {
   "cell_type": "code",
   "execution_count": 24,
   "metadata": {},
   "outputs": [
    {
     "data": {
      "text/plain": [
       "592"
      ]
     },
     "execution_count": 24,
     "metadata": {},
     "output_type": "execute_result"
    }
   ],
   "source": [
    "len(prediction_data)"
   ]
  },
  {
   "cell_type": "code",
   "execution_count": 69,
   "metadata": {},
   "outputs": [
    {
     "data": {
      "image/png": "[encoded data removed]",
      "text/plain": [
       "<PIL.Image.Image image mode=L size=60x60 at 0x10851A588>"
      ]
     },
     "execution_count": 69,
     "metadata": {},
     "output_type": "execute_result"
    }
   ],
   "source": [
    "from PIL import Image\n",
    "Image.fromarray(prediction_data[311].reshape(60,60))"
   ]
  },
  {
   "cell_type": "code",
   "execution_count": 70,
   "metadata": {},
   "outputs": [
    {
     "name": "stdout",
     "output_type": "stream",
     "text": [
      "FEAR\n"
     ]
    }
   ],
   "source": [
    "pred = prediction_labels[311]\n",
    "print(emotions[pred])"
   ]
  },
  {
   "cell_type": "code",
   "execution_count": 71,
   "metadata": {},
   "outputs": [
    {
     "name": "stdout",
     "output_type": "stream",
     "text": [
      "NEUTRAL\n"
     ]
    }
   ],
   "source": [
    "print(emotions[y_pred[311]])"
   ]
  },
  {
   "cell_type": "markdown",
   "metadata": {},
   "source": [
    "Lets predict age now."
   ]
  },
  {
   "cell_type": "code",
   "execution_count": 29,
   "metadata": {},
   "outputs": [],
   "source": [
    "agelist = [\"YOUNG\", \"OLD\", \"CHILD\", \"MIDDLE\"] #age list\n",
    "data = {}\n",
    "def get_files_age(age): #Define function to get file list, randomly shuffle it and split 80/20\n",
    "    files = glob.glob(\"/Users/sheetalsuchit/Downloads/Pract 3/%s/*\" %age)\n",
    "    random.shuffle(files)\n",
    "    training = files[:int(len(files)*0.1)] #get first 10% of file list\n",
    "    prediction = files[-int(len(files)*0.05):] #get last 5% of file list\n",
    "    return training, prediction"
   ]
  },
  {
   "cell_type": "code",
   "execution_count": 30,
   "metadata": {},
   "outputs": [],
   "source": [
    "def make_sets_age():\n",
    "    training_data = []\n",
    "    training_labels = []\n",
    "    prediction_data = []\n",
    "    prediction_labels = []\n",
    "    for age in agelist:\n",
    "        training, prediction = get_files_age(age)\n",
    "        #Append data to training and prediction list, and generate labels 0-7\n",
    "        for item in training:\n",
    "            img = cv2.cv2.imread(item) #open image\n",
    "            img = cv2.cv2.resize(img, (60,60))\n",
    "            img = cv2.cv2.cvtColor(img, cv2.cv2.COLOR_BGR2GRAY)\n",
    "            training_data.append(img) #append image array to training data list\n",
    "            training_labels.append(agelist.index(age))\n",
    "        for item in prediction: #repeat above process for prediction set\n",
    "            img = cv2.cv2.imread(item)\n",
    "            img = cv2.cv2.cvtColor(img, cv2.cv2.COLOR_BGR2GRAY)\n",
    "            img = cv2.cv2.resize(img, (60,60))\n",
    "            prediction_data.append(img)\n",
    "            prediction_labels.append(agelist.index(age))\n",
    "    return training_data, training_labels, prediction_data, prediction_labels"
   ]
  },
  {
   "cell_type": "code",
   "execution_count": 31,
   "metadata": {},
   "outputs": [
    {
     "name": "stdout",
     "output_type": "stream",
     "text": [
      "SVC(C=1.0, cache_size=200, class_weight=None, coef0=0.0,\n",
      "  decision_function_shape='ovr', degree=3, gamma='auto_deprecated',\n",
      "  kernel='linear', max_iter=-1, probability=False, random_state=None,\n",
      "  shrinking=True, tol=0.001, verbose=False)\n"
     ]
    }
   ],
   "source": [
    "from sklearn.svm import SVC\n",
    "svc_2 = SVC(kernel='linear')\n",
    "print (svc_2)"
   ]
  },
  {
   "cell_type": "code",
   "execution_count": 32,
   "metadata": {},
   "outputs": [],
   "source": [
    "training_data_age, training_labels_age, prediction_data_age, prediction_labels_age = make_sets_age()"
   ]
  },
  {
   "cell_type": "code",
   "execution_count": 33,
   "metadata": {},
   "outputs": [],
   "source": [
    "training_data_age = np.array(training_data_age)\n",
    "training_data_age = training_data_age.reshape((len(training_data_age),3600))\n",
    "prediction_data_age = np.array(prediction_data_age)\n",
    "prediction_data_age = prediction_data_age.reshape((len(prediction_data_age),3600))"
   ]
  },
  {
   "cell_type": "code",
   "execution_count": 34,
   "metadata": {},
   "outputs": [
    {
     "name": "stdout",
     "output_type": "stream",
     "text": [
      "[0.44191344 0.4214123  0.41685649 0.44646925 0.41780822]\n",
      "Mean score: 0.429 (+/-0.006)\n"
     ]
    }
   ],
   "source": [
    "evaluate_cross_validation(svc_2, training_data_age, training_labels_age, 5)"
   ]
  },
  {
   "cell_type": "code",
   "execution_count": 35,
   "metadata": {},
   "outputs": [
    {
     "name": "stdout",
     "output_type": "stream",
     "text": [
      "Accuracy on training set:\n",
      "0.9922515952597994\n",
      "Accuracy on testing set:\n",
      "0.4260948905109489\n",
      "Classification Report:\n",
      "              precision    recall  f1-score   support\n",
      "\n",
      "           0       0.42      0.43      0.42       395\n",
      "           1       0.17      0.21      0.19       158\n",
      "           2       0.25      0.20      0.22         5\n",
      "           3       0.54      0.49      0.51       538\n",
      "\n",
      "   micro avg       0.43      0.43      0.43      1096\n",
      "   macro avg       0.34      0.33      0.34      1096\n",
      "weighted avg       0.44      0.43      0.43      1096\n",
      "\n",
      "Confusion Matrix:\n",
      "[[168  79   1 147]\n",
      " [ 45  33   0  80]\n",
      " [  1   0   1   3]\n",
      " [186  85   2 265]]\n"
     ]
    }
   ],
   "source": [
    "y_pred_age = train_and_evaluate(svc_2, training_data_age, prediction_data_age, training_labels_age, prediction_labels_age)"
   ]
  },
  {
   "cell_type": "code",
   "execution_count": 36,
   "metadata": {},
   "outputs": [
    {
     "name": "stdout",
     "output_type": "stream",
     "text": [
      "SVC(C=1.0, cache_size=200, class_weight=None, coef0=0.0,\n",
      "  decision_function_shape='ovr', degree=3, gamma='auto_deprecated',\n",
      "  kernel='poly', max_iter=-1, probability=False, random_state=None,\n",
      "  shrinking=True, tol=0.001, verbose=False)\n"
     ]
    }
   ],
   "source": [
    "from sklearn.svm import SVC\n",
    "svc_3 = SVC(kernel='poly')\n",
    "print (svc_3)"
   ]
  },
  {
   "cell_type": "code",
   "execution_count": null,
   "metadata": {},
   "outputs": [],
   "source": []
  },
  {
   "cell_type": "code",
   "execution_count": 37,
   "metadata": {},
   "outputs": [
    {
     "name": "stderr",
     "output_type": "stream",
     "text": [
      "/anaconda3/lib/python3.6/site-packages/sklearn/svm/base.py:196: FutureWarning: The default value of gamma will change from 'auto' to 'scale' in version 0.22 to account better for unscaled features. Set gamma explicitly to 'auto' or 'scale' to avoid this warning.\n",
      "  \"avoid this warning.\", FutureWarning)\n",
      "/anaconda3/lib/python3.6/site-packages/sklearn/svm/base.py:196: FutureWarning: The default value of gamma will change from 'auto' to 'scale' in version 0.22 to account better for unscaled features. Set gamma explicitly to 'auto' or 'scale' to avoid this warning.\n",
      "  \"avoid this warning.\", FutureWarning)\n",
      "/anaconda3/lib/python3.6/site-packages/sklearn/svm/base.py:196: FutureWarning: The default value of gamma will change from 'auto' to 'scale' in version 0.22 to account better for unscaled features. Set gamma explicitly to 'auto' or 'scale' to avoid this warning.\n",
      "  \"avoid this warning.\", FutureWarning)\n",
      "/anaconda3/lib/python3.6/site-packages/sklearn/svm/base.py:196: FutureWarning: The default value of gamma will change from 'auto' to 'scale' in version 0.22 to account better for unscaled features. Set gamma explicitly to 'auto' or 'scale' to avoid this warning.\n",
      "  \"avoid this warning.\", FutureWarning)\n",
      "/anaconda3/lib/python3.6/site-packages/sklearn/svm/base.py:196: FutureWarning: The default value of gamma will change from 'auto' to 'scale' in version 0.22 to account better for unscaled features. Set gamma explicitly to 'auto' or 'scale' to avoid this warning.\n",
      "  \"avoid this warning.\", FutureWarning)\n"
     ]
    },
    {
     "name": "stdout",
     "output_type": "stream",
     "text": [
      "[0.4715262  0.46241458 0.47835991 0.54214123 0.47945205]\n",
      "Mean score: 0.487 (+/-0.014)\n"
     ]
    }
   ],
   "source": [
    "evaluate_cross_validation(svc_3, training_data_age, training_labels_age, 5)"
   ]
  },
  {
   "cell_type": "code",
   "execution_count": 38,
   "metadata": {},
   "outputs": [
    {
     "name": "stderr",
     "output_type": "stream",
     "text": [
      "/anaconda3/lib/python3.6/site-packages/sklearn/svm/base.py:196: FutureWarning: The default value of gamma will change from 'auto' to 'scale' in version 0.22 to account better for unscaled features. Set gamma explicitly to 'auto' or 'scale' to avoid this warning.\n",
      "  \"avoid this warning.\", FutureWarning)\n"
     ]
    },
    {
     "name": "stdout",
     "output_type": "stream",
     "text": [
      "Accuracy on training set:\n",
      "0.9922515952597994\n",
      "Accuracy on testing set:\n",
      "0.4698905109489051\n",
      "Classification Report:\n",
      "              precision    recall  f1-score   support\n",
      "\n",
      "           0       0.46      0.49      0.47       395\n",
      "           1       0.26      0.27      0.27       158\n",
      "           2       0.20      0.20      0.20         5\n",
      "           3       0.55      0.51      0.53       538\n",
      "\n",
      "   micro avg       0.47      0.47      0.47      1096\n",
      "   macro avg       0.37      0.37      0.37      1096\n",
      "weighted avg       0.47      0.47      0.47      1096\n",
      "\n",
      "Confusion Matrix:\n",
      "[[194  44   2 155]\n",
      " [ 45  43   0  70]\n",
      " [  3   0   1   1]\n",
      " [181  78   2 277]]\n"
     ]
    }
   ],
   "source": [
    "y_pred_age = train_and_evaluate(svc_3, training_data_age, prediction_data_age, training_labels_age, prediction_labels_age)"
   ]
  },
  {
   "cell_type": "code",
   "execution_count": 73,
   "metadata": {},
   "outputs": [
    {
     "name": "stdout",
     "output_type": "stream",
     "text": [
      "OLD\n"
     ]
    }
   ],
   "source": [
    "pred = prediction_labels_age[543]\n",
    "print(agelist[pred])"
   ]
  },
  {
   "cell_type": "code",
   "execution_count": 74,
   "metadata": {},
   "outputs": [
    {
     "data": {
      "text/plain": [
       "'MIDDLE'"
      ]
     },
     "execution_count": 74,
     "metadata": {},
     "output_type": "execute_result"
    }
   ],
   "source": [
    "agelist[y_pred_age[543]]"
   ]
  },
  {
   "cell_type": "code",
   "execution_count": 72,
   "metadata": {},
   "outputs": [
    {
     "data": {
      "image/png": "[encoded data removed]",
      "text/plain": [
       "<PIL.Image.Image image mode=L size=60x60 at 0x10851A710>"
      ]
     },
     "execution_count": 72,
     "metadata": {},
     "output_type": "execute_result"
    }
   ],
   "source": [
    "from PIL import Image\n",
    "Image.fromarray(prediction_data_age[543].reshape(60,60))"
   ]
  },
  {
   "cell_type": "code",
   "execution_count": 42,
   "metadata": {},
   "outputs": [
    {
     "name": "stdout",
     "output_type": "stream",
     "text": [
      "SVC(C=1.0, cache_size=200, class_weight=None, coef0=0.0,\n",
      "  decision_function_shape='ovr', degree=3, gamma='auto_deprecated',\n",
      "  kernel='poly', max_iter=-1, probability=False, random_state=None,\n",
      "  shrinking=True, tol=0.001, verbose=False)\n"
     ]
    }
   ],
   "source": [
    "from sklearn.svm import SVC\n",
    "svc_4 = SVC(kernel='rbf')\n",
    "print (svc_3)"
   ]
  },
  {
   "cell_type": "code",
   "execution_count": 43,
   "metadata": {},
   "outputs": [
    {
     "name": "stderr",
     "output_type": "stream",
     "text": [
      "/anaconda3/lib/python3.6/site-packages/sklearn/svm/base.py:196: FutureWarning: The default value of gamma will change from 'auto' to 'scale' in version 0.22 to account better for unscaled features. Set gamma explicitly to 'auto' or 'scale' to avoid this warning.\n",
      "  \"avoid this warning.\", FutureWarning)\n",
      "/anaconda3/lib/python3.6/site-packages/sklearn/svm/base.py:196: FutureWarning: The default value of gamma will change from 'auto' to 'scale' in version 0.22 to account better for unscaled features. Set gamma explicitly to 'auto' or 'scale' to avoid this warning.\n",
      "  \"avoid this warning.\", FutureWarning)\n",
      "/anaconda3/lib/python3.6/site-packages/sklearn/svm/base.py:196: FutureWarning: The default value of gamma will change from 'auto' to 'scale' in version 0.22 to account better for unscaled features. Set gamma explicitly to 'auto' or 'scale' to avoid this warning.\n",
      "  \"avoid this warning.\", FutureWarning)\n",
      "/anaconda3/lib/python3.6/site-packages/sklearn/svm/base.py:196: FutureWarning: The default value of gamma will change from 'auto' to 'scale' in version 0.22 to account better for unscaled features. Set gamma explicitly to 'auto' or 'scale' to avoid this warning.\n",
      "  \"avoid this warning.\", FutureWarning)\n",
      "/anaconda3/lib/python3.6/site-packages/sklearn/svm/base.py:196: FutureWarning: The default value of gamma will change from 'auto' to 'scale' in version 0.22 to account better for unscaled features. Set gamma explicitly to 'auto' or 'scale' to avoid this warning.\n",
      "  \"avoid this warning.\", FutureWarning)\n"
     ]
    },
    {
     "name": "stdout",
     "output_type": "stream",
     "text": [
      "[0.46697039 0.48291572 0.476082   0.50113895 0.49771689]\n",
      "Mean score: 0.485 (+/-0.006)\n"
     ]
    }
   ],
   "source": [
    "evaluate_cross_validation(svc_4, training_data_age, training_labels_age, 5)\n"
   ]
  },
  {
   "cell_type": "code",
   "execution_count": 44,
   "metadata": {},
   "outputs": [
    {
     "name": "stderr",
     "output_type": "stream",
     "text": [
      "/anaconda3/lib/python3.6/site-packages/sklearn/svm/base.py:196: FutureWarning: The default value of gamma will change from 'auto' to 'scale' in version 0.22 to account better for unscaled features. Set gamma explicitly to 'auto' or 'scale' to avoid this warning.\n",
      "  \"avoid this warning.\", FutureWarning)\n"
     ]
    },
    {
     "name": "stdout",
     "output_type": "stream",
     "text": [
      "Accuracy on training set:\n",
      "0.9922515952597994\n",
      "Accuracy on testing set:\n",
      "0.4844890510948905\n",
      "Classification Report:\n",
      "              precision    recall  f1-score   support\n",
      "\n",
      "           0       0.00      0.00      0.00       395\n",
      "           1       0.00      0.00      0.00       158\n",
      "           2       0.00      0.00      0.00         5\n",
      "           3       0.49      0.99      0.65       538\n",
      "\n",
      "   micro avg       0.48      0.48      0.48      1096\n",
      "   macro avg       0.12      0.25      0.16      1096\n",
      "weighted avg       0.24      0.48      0.32      1096\n",
      "\n",
      "Confusion Matrix:\n",
      "[[  0   0   0 395]\n",
      " [  1   0   0 157]\n",
      " [  0   0   0   5]\n",
      " [  5   2   0 531]]\n"
     ]
    },
    {
     "name": "stderr",
     "output_type": "stream",
     "text": [
      "/anaconda3/lib/python3.6/site-packages/sklearn/metrics/classification.py:1143: UndefinedMetricWarning: Precision and F-score are ill-defined and being set to 0.0 in labels with no predicted samples.\n",
      "  'precision', 'predicted', average, warn_for)\n"
     ]
    }
   ],
   "source": [
    "y_pred_age = train_and_evaluate(svc_4, training_data_age, prediction_data_age, training_labels_age, prediction_labels_age)"
   ]
  },
  {
   "cell_type": "code",
   "execution_count": 75,
   "metadata": {},
   "outputs": [
    {
     "name": "stdout",
     "output_type": "stream",
     "text": [
      "SVC(C=1.0, cache_size=200, class_weight=None, coef0=0.0,\n",
      "  decision_function_shape='ovr', degree=3, gamma='auto_deprecated',\n",
      "  kernel='sigmoid', max_iter=-1, probability=False, random_state=None,\n",
      "  shrinking=True, tol=0.001, verbose=False)\n"
     ]
    }
   ],
   "source": [
    "from sklearn.svm import SVC\n",
    "svc_5 = SVC(kernel='sigmoid')\n",
    "print (svc_5)"
   ]
  },
  {
   "cell_type": "code",
   "execution_count": 76,
   "metadata": {},
   "outputs": [
    {
     "name": "stderr",
     "output_type": "stream",
     "text": [
      "/anaconda3/lib/python3.6/site-packages/sklearn/svm/base.py:196: FutureWarning: The default value of gamma will change from 'auto' to 'scale' in version 0.22 to account better for unscaled features. Set gamma explicitly to 'auto' or 'scale' to avoid this warning.\n",
      "  \"avoid this warning.\", FutureWarning)\n",
      "/anaconda3/lib/python3.6/site-packages/sklearn/svm/base.py:196: FutureWarning: The default value of gamma will change from 'auto' to 'scale' in version 0.22 to account better for unscaled features. Set gamma explicitly to 'auto' or 'scale' to avoid this warning.\n",
      "  \"avoid this warning.\", FutureWarning)\n",
      "/anaconda3/lib/python3.6/site-packages/sklearn/svm/base.py:196: FutureWarning: The default value of gamma will change from 'auto' to 'scale' in version 0.22 to account better for unscaled features. Set gamma explicitly to 'auto' or 'scale' to avoid this warning.\n",
      "  \"avoid this warning.\", FutureWarning)\n",
      "/anaconda3/lib/python3.6/site-packages/sklearn/svm/base.py:196: FutureWarning: The default value of gamma will change from 'auto' to 'scale' in version 0.22 to account better for unscaled features. Set gamma explicitly to 'auto' or 'scale' to avoid this warning.\n",
      "  \"avoid this warning.\", FutureWarning)\n",
      "/anaconda3/lib/python3.6/site-packages/sklearn/svm/base.py:196: FutureWarning: The default value of gamma will change from 'auto' to 'scale' in version 0.22 to account better for unscaled features. Set gamma explicitly to 'auto' or 'scale' to avoid this warning.\n",
      "  \"avoid this warning.\", FutureWarning)\n"
     ]
    },
    {
     "name": "stdout",
     "output_type": "stream",
     "text": [
      "[0.47835991 0.48291572 0.48063781 0.50341686 0.50684932]\n",
      "Mean score: 0.490 (+/-0.006)\n"
     ]
    }
   ],
   "source": [
    "evaluate_cross_validation(svc_5, training_data_age, training_labels_age, 5)"
   ]
  },
  {
   "cell_type": "code",
   "execution_count": 77,
   "metadata": {},
   "outputs": [
    {
     "name": "stderr",
     "output_type": "stream",
     "text": [
      "/anaconda3/lib/python3.6/site-packages/sklearn/svm/base.py:196: FutureWarning: The default value of gamma will change from 'auto' to 'scale' in version 0.22 to account better for unscaled features. Set gamma explicitly to 'auto' or 'scale' to avoid this warning.\n",
      "  \"avoid this warning.\", FutureWarning)\n"
     ]
    },
    {
     "name": "stdout",
     "output_type": "stream",
     "text": [
      "Accuracy on training set:\n",
      "0.49042844120328166\n",
      "Accuracy on testing set:\n",
      "0.4908759124087591\n",
      "Classification Report:\n",
      "              precision    recall  f1-score   support\n",
      "\n",
      "           0       0.00      0.00      0.00       395\n",
      "           1       0.00      0.00      0.00       158\n",
      "           2       0.00      0.00      0.00         5\n",
      "           3       0.49      1.00      0.66       538\n",
      "\n",
      "   micro avg       0.49      0.49      0.49      1096\n",
      "   macro avg       0.12      0.25      0.16      1096\n",
      "weighted avg       0.24      0.49      0.32      1096\n",
      "\n",
      "Confusion Matrix:\n",
      "[[  0   0   0 395]\n",
      " [  0   0   0 158]\n",
      " [  0   0   0   5]\n",
      " [  0   0   0 538]]\n"
     ]
    },
    {
     "name": "stderr",
     "output_type": "stream",
     "text": [
      "/anaconda3/lib/python3.6/site-packages/sklearn/metrics/classification.py:1143: UndefinedMetricWarning: Precision and F-score are ill-defined and being set to 0.0 in labels with no predicted samples.\n",
      "  'precision', 'predicted', average, warn_for)\n"
     ]
    }
   ],
   "source": [
    "y_pred_age = train_and_evaluate(svc_5, training_data_age, prediction_data_age, training_labels_age, prediction_labels_age)"
   ]
  },
  {
   "cell_type": "code",
   "execution_count": 78,
   "metadata": {},
   "outputs": [
    {
     "data": {
      "text/plain": [
       "'MIDDLE'"
      ]
     },
     "execution_count": 78,
     "metadata": {},
     "output_type": "execute_result"
    }
   ],
   "source": [
    "agelist[3]"
   ]
  },
  {
   "cell_type": "code",
   "execution_count": null,
   "metadata": {},
   "outputs": [],
   "source": []
  }
 ],
 "metadata": {
  "kernelspec": {
   "display_name": "Python 3",
   "language": "python",
   "name": "python3"
  },
  "language_info": {
   "codemirror_mode": {
    "name": "ipython",
    "version": 3
   },
   "file_extension": ".py",
   "mimetype": "text/x-python",
   "name": "python",
   "nbconvert_exporter": "python",
   "pygments_lexer": "ipython3",
   "version": "3.6.4"
  }
 },
 "nbformat": 4,
 "nbformat_minor": 2
}
